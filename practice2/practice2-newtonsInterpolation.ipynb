{
 "cells": [
  {
   "cell_type": "markdown",
   "id": "95262b91-a154-47ff-bae3-ad2877fabd78",
   "metadata": {},
   "source": [
    "# Practice 2 of the Computational Mechanics course of the Simon Bolivar University\n",
    "\n",
    "## Interpolation of curves using the Newtons polynomial"
   ]
  },
  {
   "cell_type": "code",
   "execution_count": 1,
   "id": "a58b174d-5e41-497c-83f1-9e391d5446f6",
   "metadata": {},
   "outputs": [
    {
     "name": "stdout",
     "output_type": "stream",
     "text": [
      "IPython console for SymPy 1.9 (Python 3.9.7-64-bit) (ground types: python)\n",
      "\n",
      "These commands were executed:\n",
      ">>> from __future__ import division\n",
      ">>> from sympy import *\n",
      ">>> x, y, z, t = symbols('x y z t')\n",
      ">>> k, m, n = symbols('k m n', integer=True)\n",
      ">>> f, g, h = symbols('f g h', cls=Function)\n",
      ">>> init_printing()\n",
      "\n",
      "Documentation can be found at https://docs.sympy.org/1.9/\n",
      "\n"
     ]
    }
   ],
   "source": [
    "import numpy as np\n",
    "from sympy import init_session\n",
    "init_session(use_latex=True)\n",
    "%matplotlib inline"
   ]
  },
  {
   "cell_type": "code",
   "execution_count": 2,
   "id": "8315e5c2-cdd1-42b6-812c-ebcd9a6b05c8",
   "metadata": {},
   "outputs": [],
   "source": [
    "def Newton(X:list, Y:list, xx, option: int):\n",
    "    # Number of points\n",
    "    nx = len(X)\n",
    "    ny = len(Y)\n",
    "    \n",
    "    # Veifying that X and Y are lists\n",
    "    if not isinstance(X, list):\n",
    "        raise ValueError(\"X and Y arguments must be lists\")\n",
    "    elif not isinstance(Y, list):\n",
    "        raise ValueError(\"X and Y arguments must be lists\")\n",
    "    # Checking that X,Y lists are the same size\n",
    "    elif nx!=ny:\n",
    "        raise ValueError(\"X,Y lists of values are not the same size\")\n",
    "    # Checking that there are no repeated values of X\n",
    "    elif len(set(X))!=nx:\n",
    "        List=[]\n",
    "        for i in X:\n",
    "            if List.count(i)>0:\n",
    "                print(f\"The value {i} of X is repeated\\n\",i)\n",
    "            else:\n",
    "                List.append(i)\n",
    "        raise ValueError(\"There are repeated values of X\")\n",
    "    elif option!=1 and option!=2:\n",
    "        raise ValueError(\"\"\"The option argument 'option' should be:\n",
    "        1-> for progressive polynomial\n",
    "        2-> for regressive polynomial\"\"\")\n",
    "    \n",
    "    # Newton's interpolation method\n",
    "    else:\n",
    "        n = nx\n",
    "        V0 = Matrix(X)\n",
    "        V1 = Matrix(Y)\n",
    "        # Calculation of Divided differences matrix\n",
    "        M = zeros(n, n+1)\n",
    "        M[:,0] = V0\n",
    "        M[:,1] = V1\n",
    "        for k in range(2,n+1):\n",
    "            for i in range(n-(k-1)):\n",
    "                M[i,k] = (M[i+1,k-1]-M[i,k-1])/(X[i+(k-1)]-X[i])\n",
    "                \n",
    "        # Creation of interpolating polynomial\n",
    "        # For forward polynomial\n",
    "        if option == 1:\n",
    "            # Collecting the coefficients\n",
    "            A = zeros(n,1)\n",
    "            for i in range(n):\n",
    "                A[i] = M[0,i+1] \n",
    "            # Building the polynomial    \n",
    "            Pol = A[0]\n",
    "            for i in range(1,n):\n",
    "                mult = 1\n",
    "                for j in range(i):\n",
    "                    mult *= (x-X[j])\n",
    "                sum = A[i]*mult\n",
    "                Pol += sum\n",
    "        # For backward polynomial\n",
    "        else:\n",
    "            B = zeros(n,1)\n",
    "            pass\n",
    "        \n",
    "        # Interpolation\n",
    "        yy = Pol.subs(x,S(xx))\n",
    "        # Graphics\n",
    "        p1 = plot(Pol, show=True)\n",
    "        \n",
    "    return(yy,M,Pol)"
   ]
  },
  {
   "cell_type": "code",
   "execution_count": 3,
   "id": "b25cabe6-2a07-40dc-9689-8327cc9f6db0",
   "metadata": {},
   "outputs": [],
   "source": [
    "X = [0,2,3,10,12]\n",
    "Y = [-1,1,2,3,4]"
   ]
  },
  {
   "cell_type": "code",
   "execution_count": 4,
   "id": "3b558820-86fa-4280-b521-debe2f0c74d3",
   "metadata": {},
   "outputs": [
    {
     "data": {
      "image/png": "[encoded data removed]",
      "text/plain": [
       "<Figure size 432x288 with 1 Axes>"
      ]
     },
     "metadata": {
      "needs_background": "light"
     },
     "output_type": "display_data"
    }
   ],
   "source": [
    "yy, M, P = Newton(X,Y,1,1)"
   ]
  },
  {
   "cell_type": "code",
   "execution_count": 5,
   "id": "3cd7c3b5-c2fe-41d4-b082-f7f9a5f78e8c",
   "metadata": {},
   "outputs": [
    {
     "name": "stderr",
     "output_type": "stream",
     "text": [
      "C:\\Users\\Indatech\\anaconda3\\lib\\site-packages\\IPython\\lib\\latextools.py:126: MatplotlibDeprecationWarning: \n",
      "The to_png function was deprecated in Matplotlib 3.4 and will be removed two minor releases later. Use mathtext.math_to_image instead.\n",
      "  mt.to_png(f, s, fontsize=12, dpi=dpi, color=color)\n",
      "C:\\Users\\Indatech\\anaconda3\\lib\\site-packages\\IPython\\lib\\latextools.py:126: MatplotlibDeprecationWarning: \n",
      "The to_rgba function was deprecated in Matplotlib 3.4 and will be removed two minor releases later. Use mathtext.math_to_image instead.\n",
      "  mt.to_png(f, s, fontsize=12, dpi=dpi, color=color)\n",
      "C:\\Users\\Indatech\\anaconda3\\lib\\site-packages\\IPython\\lib\\latextools.py:126: MatplotlibDeprecationWarning: \n",
      "The to_mask function was deprecated in Matplotlib 3.4 and will be removed two minor releases later. Use mathtext.math_to_image instead.\n",
      "  mt.to_png(f, s, fontsize=12, dpi=dpi, color=color)\n",
      "C:\\Users\\Indatech\\anaconda3\\lib\\site-packages\\IPython\\lib\\latextools.py:126: MatplotlibDeprecationWarning: \n",
      "The MathtextBackendBitmap class was deprecated in Matplotlib 3.4 and will be removed two minor releases later. Use mathtext.math_to_image instead.\n",
      "  mt.to_png(f, s, fontsize=12, dpi=dpi, color=color)\n"
     ]
    },
    {
     "data": {
      "image/png": "[encoded data removed]",
      "text/latex": [
       "$\\displaystyle \\frac{2 x \\left(x - 10\\right) \\left(x - 3\\right) \\left(x - 2\\right)}{945} - \\frac{3 x \\left(x - 3\\right) \\left(x - 2\\right)}{280} + x - 1$"
      ],
      "text/plain": [
       "2⋅x⋅(x - 10)⋅(x - 3)⋅(x - 2)   3⋅x⋅(x - 3)⋅(x - 2)        \n",
       "──────────────────────────── - ─────────────────── + x - 1\n",
       "            945                        280                "
      ]
     },
     "execution_count": 5,
     "metadata": {},
     "output_type": "execute_result"
    }
   ],
   "source": [
    "P"
   ]
  },
  {
   "cell_type": "code",
   "execution_count": 6,
   "id": "71083a39-25fc-45ec-bf28-829c4bb4dd67",
   "metadata": {},
   "outputs": [
    {
     "data": {
      "image/png": "[encoded data removed]",
      "text/latex": [
       "$\\displaystyle \\frac{2 x^{4}}{945} - \\frac{107 x^{3}}{2520} + \\frac{1301 x^{2}}{7560} + \\frac{1019 x}{1260} - 1$"
      ],
      "text/plain": [
       "   4        3         2             \n",
       "2⋅x    107⋅x    1301⋅x    1019⋅x    \n",
       "──── - ────── + ─────── + ────── - 1\n",
       "945     2520      7560     1260     "
      ]
     },
     "execution_count": 6,
     "metadata": {},
     "output_type": "execute_result"
    }
   ],
   "source": [
    "simplify(P)"
   ]
  },
  {
   "cell_type": "code",
   "execution_count": 7,
   "id": "ed4d4c53-9a24-46a9-bd97-fa389746e0cf",
   "metadata": {},
   "outputs": [
    {
     "data": {
      "text/latex": [
       "$\\displaystyle \\left[\\begin{matrix}0 & -1 & 1 & 0 & - \\frac{3}{280} & \\frac{2}{945}\\\\2 & 1 & 1 & - \\frac{3}{28} & \\frac{37}{2520} & 0\\\\3 & 2 & \\frac{1}{7} & \\frac{5}{126} & 0 & 0\\\\10 & 3 & \\frac{1}{2} & 0 & 0 & 0\\\\12 & 4 & 0 & 0 & 0 & 0\\end{matrix}\\right]$"
      ],
      "text/plain": [
       "⎡0   -1   1     0    -3/280  2/945⎤\n",
       "⎢                                 ⎥\n",
       "⎢                      37         ⎥\n",
       "⎢2   1    1   -3/28   ────     0  ⎥\n",
       "⎢                     2520        ⎥\n",
       "⎢                                 ⎥\n",
       "⎢3   2   1/7  5/126    0       0  ⎥\n",
       "⎢                                 ⎥\n",
       "⎢10  3   1/2    0      0       0  ⎥\n",
       "⎢                                 ⎥\n",
       "⎣12  4    0     0      0       0  ⎦"
      ]
     },
     "execution_count": 7,
     "metadata": {},
     "output_type": "execute_result"
    }
   ],
   "source": [
    "M"
   ]
  },
  {
   "cell_type": "code",
   "execution_count": 8,
   "id": "7911d390-1f68-4d4c-81eb-d3e2207d9d0f",
   "metadata": {},
   "outputs": [
    {
     "data": {
      "image/png": "[encoded data removed]",
      "text/latex": [
       "$\\displaystyle - \\frac{5}{84}$"
      ],
      "text/plain": [
       "-5/84"
      ]
     },
     "execution_count": 8,
     "metadata": {},
     "output_type": "execute_result"
    }
   ],
   "source": [
    "yy"
   ]
  }
 ],
 "metadata": {
  "kernelspec": {
   "display_name": "Python 3 (ipykernel)",
   "language": "python",
   "name": "python3"
  },
  "language_info": {
   "codemirror_mode": {
    "name": "ipython",
    "version": 3
   },
   "file_extension": ".py",
   "mimetype": "text/x-python",
   "name": "python",
   "nbconvert_exporter": "python",
   "pygments_lexer": "ipython3",
   "version": "3.9.7"
  }
 },
 "nbformat": 4,
 "nbformat_minor": 5
}
