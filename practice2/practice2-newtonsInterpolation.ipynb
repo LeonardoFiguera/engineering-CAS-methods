{
 "cells": [
  {
   "cell_type": "code",
   "execution_count": 1,
   "id": "a58b174d-5e41-497c-83f1-9e391d5446f6",
   "metadata": {},
   "outputs": [
    {
     "name": "stdout",
     "output_type": "stream",
     "text": [
      "IPython console for SymPy 1.9 (Python 3.9.7-64-bit) (ground types: python)\n",
      "\n",
      "These commands were executed:\n",
      ">>> from __future__ import division\n",
      ">>> from sympy import *\n",
      ">>> x, y, z, t = symbols('x y z t')\n",
      ">>> k, m, n = symbols('k m n', integer=True)\n",
      ">>> f, g, h = symbols('f g h', cls=Function)\n",
      ">>> init_printing()\n",
      "\n",
      "Documentation can be found at https://docs.sympy.org/1.9/\n",
      "\n"
     ]
    }
   ],
   "source": [
    "from matplotlib import pyplot as plt\n",
    "%matplotlib inline\n",
    "from sympy import init_session\n",
    "init_session(use_latex=True)"
   ]
  },
  {
   "cell_type": "code",
   "execution_count": 2,
   "id": "f0c53e7b-10ea-4aa9-b683-916c19c6389a",
   "metadata": {},
   "outputs": [],
   "source": [
    "def Newton(X:list,Y:list,xx):\n",
    "    nx = len(x)\n",
    "    ny = len(y)"
   ]
  },
  {
   "cell_type": "code",
   "execution_count": 3,
   "id": "7ffb0bbd-8740-4e99-86e0-e25cfd3a6e31",
   "metadata": {},
   "outputs": [
    {
     "name": "stderr",
     "output_type": "stream",
     "text": [
      "C:\\Users\\Indatech\\anaconda3\\lib\\site-packages\\IPython\\lib\\latextools.py:126: MatplotlibDeprecationWarning: \n",
      "The to_png function was deprecated in Matplotlib 3.4 and will be removed two minor releases later. Use mathtext.math_to_image instead.\n",
      "  mt.to_png(f, s, fontsize=12, dpi=dpi, color=color)\n",
      "C:\\Users\\Indatech\\anaconda3\\lib\\site-packages\\IPython\\lib\\latextools.py:126: MatplotlibDeprecationWarning: \n",
      "The to_rgba function was deprecated in Matplotlib 3.4 and will be removed two minor releases later. Use mathtext.math_to_image instead.\n",
      "  mt.to_png(f, s, fontsize=12, dpi=dpi, color=color)\n",
      "C:\\Users\\Indatech\\anaconda3\\lib\\site-packages\\IPython\\lib\\latextools.py:126: MatplotlibDeprecationWarning: \n",
      "The to_mask function was deprecated in Matplotlib 3.4 and will be removed two minor releases later. Use mathtext.math_to_image instead.\n",
      "  mt.to_png(f, s, fontsize=12, dpi=dpi, color=color)\n",
      "C:\\Users\\Indatech\\anaconda3\\lib\\site-packages\\IPython\\lib\\latextools.py:126: MatplotlibDeprecationWarning: \n",
      "The MathtextBackendBitmap class was deprecated in Matplotlib 3.4 and will be removed two minor releases later. Use mathtext.math_to_image instead.\n",
      "  mt.to_png(f, s, fontsize=12, dpi=dpi, color=color)\n"
     ]
    },
    {
     "data": {
      "text/latex": [
       "$\\displaystyle \\left[\\begin{matrix}\\left[\\begin{matrix}0\\\\2\\\\3\\\\10\\\\12\\end{matrix}\\right] & \\left[\\begin{matrix}-1\\\\1\\\\2\\\\3\\\\4\\end{matrix}\\right]\\end{matrix}\\right]$"
      ],
      "text/plain": [
       "⎡⎡0 ⎤  ⎡-1⎤⎤\n",
       "⎢⎢  ⎥  ⎢  ⎥⎥\n",
       "⎢⎢2 ⎥  ⎢1 ⎥⎥\n",
       "⎢⎢  ⎥  ⎢  ⎥⎥\n",
       "⎢⎢3 ⎥  ⎢2 ⎥⎥\n",
       "⎢⎢  ⎥  ⎢  ⎥⎥\n",
       "⎢⎢10⎥  ⎢3 ⎥⎥\n",
       "⎢⎢  ⎥  ⎢  ⎥⎥\n",
       "⎣⎣12⎦  ⎣4 ⎦⎦"
      ]
     },
     "execution_count": 3,
     "metadata": {},
     "output_type": "execute_result"
    }
   ],
   "source": [
    "X = [S(str(i),rational=True) for i in X]\n",
    "Y = [S(str(i),rational=True) for i in Y]\n",
    "A = Matrix(X)\n",
    "B = Matrix(Y)\n",
    "C = BlockMatrix([A, B])\n",
    "C"
   ]
  },
  {
   "cell_type": "code",
   "execution_count": null,
   "id": "b25cabe6-2a07-40dc-9689-8327cc9f6db0",
   "metadata": {},
   "outputs": [],
   "source": [
    "X = [0,2,3,10,12]\n",
    "Y = [-1,1,2,3,4]"
   ]
  }
 ],
 "metadata": {
  "kernelspec": {
   "display_name": "Python 3 (ipykernel)",
   "language": "python",
   "name": "python3"
  },
  "language_info": {
   "codemirror_mode": {
    "name": "ipython",
    "version": 3
   },
   "file_extension": ".py",
   "mimetype": "text/x-python",
   "name": "python",
   "nbconvert_exporter": "python",
   "pygments_lexer": "ipython3",
   "version": "3.9.7"
  }
 },
 "nbformat": 4,
 "nbformat_minor": 5
}
