{
 "cells": [
  {
   "cell_type": "markdown",
   "id": "dac00529-33a5-4f89-abdb-d98acf27d4c2",
   "metadata": {},
   "source": [
    "# Raw code for Practice 2 (Newton's interpolation)\n",
    "\n",
    "This notebook is for practicing the method and testing the features of Python and Sympy that will help develop a better final version of the code."
   ]
  },
  {
   "cell_type": "code",
   "execution_count": 1,
   "id": "172cc196-7d2a-46c3-851e-b6ca41b97080",
   "metadata": {},
   "outputs": [
    {
     "name": "stdout",
     "output_type": "stream",
     "text": [
      "IPython console for SymPy 1.9 (Python 3.9.7-64-bit) (ground types: python)\n",
      "\n",
      "These commands were executed:\n",
      ">>> from __future__ import division\n",
      ">>> from sympy import *\n",
      ">>> x, y, z, t = symbols('x y z t')\n",
      ">>> k, m, n = symbols('k m n', integer=True)\n",
      ">>> f, g, h = symbols('f g h', cls=Function)\n",
      ">>> init_printing()\n",
      "\n",
      "Documentation can be found at https://docs.sympy.org/1.9/\n",
      "\n"
     ]
    }
   ],
   "source": [
    "import numpy as np\n",
    "from sympy import init_session\n",
    "init_session(use_latex=True)\n",
    "%matplotlib inline"
   ]
  },
  {
   "cell_type": "code",
   "execution_count": 2,
   "id": "90a3f9f2-6adf-40c2-a121-187035303bb9",
   "metadata": {},
   "outputs": [
    {
     "name": "stderr",
     "output_type": "stream",
     "text": [
      "C:\\Users\\Indatech\\anaconda3\\lib\\site-packages\\IPython\\lib\\latextools.py:126: MatplotlibDeprecationWarning: \n",
      "The to_png function was deprecated in Matplotlib 3.4 and will be removed two minor releases later. Use mathtext.math_to_image instead.\n",
      "  mt.to_png(f, s, fontsize=12, dpi=dpi, color=color)\n",
      "C:\\Users\\Indatech\\anaconda3\\lib\\site-packages\\IPython\\lib\\latextools.py:126: MatplotlibDeprecationWarning: \n",
      "The to_rgba function was deprecated in Matplotlib 3.4 and will be removed two minor releases later. Use mathtext.math_to_image instead.\n",
      "  mt.to_png(f, s, fontsize=12, dpi=dpi, color=color)\n",
      "C:\\Users\\Indatech\\anaconda3\\lib\\site-packages\\IPython\\lib\\latextools.py:126: MatplotlibDeprecationWarning: \n",
      "The to_mask function was deprecated in Matplotlib 3.4 and will be removed two minor releases later. Use mathtext.math_to_image instead.\n",
      "  mt.to_png(f, s, fontsize=12, dpi=dpi, color=color)\n",
      "C:\\Users\\Indatech\\anaconda3\\lib\\site-packages\\IPython\\lib\\latextools.py:126: MatplotlibDeprecationWarning: \n",
      "The MathtextBackendBitmap class was deprecated in Matplotlib 3.4 and will be removed two minor releases later. Use mathtext.math_to_image instead.\n",
      "  mt.to_png(f, s, fontsize=12, dpi=dpi, color=color)\n"
     ]
    },
    {
     "data": {
      "image/png": "[encoded data removed]",
      "text/latex": [
       "$\\displaystyle 5$"
      ],
      "text/plain": [
       "5"
      ]
     },
     "execution_count": 2,
     "metadata": {},
     "output_type": "execute_result"
    }
   ],
   "source": [
    "# Experimental data to be interpolated\n",
    "X = [0,2,3,10,12]\n",
    "Y = [-1,1,2,3,4]\n",
    "n = len(X)\n",
    "n"
   ]
  },
  {
   "cell_type": "markdown",
   "id": "c8cdaf7c-c982-447f-a14b-d696812e9e11",
   "metadata": {},
   "source": [
    "Let's start by doing the divided differences one by one"
   ]
  },
  {
   "cell_type": "code",
   "execution_count": 3,
   "id": "e7b11e99-95e9-4c8e-8083-d851fc4ef572",
   "metadata": {},
   "outputs": [
    {
     "data": {
      "text/latex": [
       "$\\displaystyle \\left[\\begin{matrix}-1\\\\1\\\\2\\\\3\\\\4\\end{matrix}\\right]$"
      ],
      "text/plain": [
       "⎡-1⎤\n",
       "⎢  ⎥\n",
       "⎢1 ⎥\n",
       "⎢  ⎥\n",
       "⎢2 ⎥\n",
       "⎢  ⎥\n",
       "⎢3 ⎥\n",
       "⎢  ⎥\n",
       "⎣4 ⎦"
      ]
     },
     "execution_count": 3,
     "metadata": {},
     "output_type": "execute_result"
    }
   ],
   "source": [
    "V0 = Matrix(X)\n",
    "V1 = Matrix(Y)\n",
    "V1"
   ]
  },
  {
   "cell_type": "code",
   "execution_count": 4,
   "id": "9dbf9315-cd2e-417c-adfa-8751533005c4",
   "metadata": {},
   "outputs": [
    {
     "data": {
      "text/latex": [
       "$\\displaystyle \\left[\\begin{matrix}0 & -1\\\\2 & 1\\\\3 & 2\\\\10 & 3\\\\12 & 4\\end{matrix}\\right]$"
      ],
      "text/plain": [
       "⎡0   -1⎤\n",
       "⎢      ⎥\n",
       "⎢2   1 ⎥\n",
       "⎢      ⎥\n",
       "⎢3   2 ⎥\n",
       "⎢      ⎥\n",
       "⎢10  3 ⎥\n",
       "⎢      ⎥\n",
       "⎣12  4 ⎦"
      ]
     },
     "execution_count": 4,
     "metadata": {},
     "output_type": "execute_result"
    }
   ],
   "source": [
    "M = V0.row_join(V1)\n",
    "M"
   ]
  },
  {
   "cell_type": "code",
   "execution_count": 5,
   "id": "ca0d418a-0366-453a-805b-bd32bbc2c601",
   "metadata": {},
   "outputs": [
    {
     "name": "stdout",
     "output_type": "stream",
     "text": [
      "range(0, 5)\n"
     ]
    },
    {
     "data": {
      "text/latex": [
       "$\\displaystyle \\left[\\begin{matrix}0\\\\0\\\\0\\\\0\\\\0\\end{matrix}\\right]$"
      ],
      "text/plain": [
       "⎡0⎤\n",
       "⎢ ⎥\n",
       "⎢0⎥\n",
       "⎢ ⎥\n",
       "⎢0⎥\n",
       "⎢ ⎥\n",
       "⎢0⎥\n",
       "⎢ ⎥\n",
       "⎣0⎦"
      ]
     },
     "execution_count": 5,
     "metadata": {},
     "output_type": "execute_result"
    }
   ],
   "source": [
    "V2 = zeros(n,1)\n",
    "print(range(n))\n",
    "V2"
   ]
  },
  {
   "cell_type": "markdown",
   "id": "1b95ebd4-44c6-4ddc-a708-b9307351aecd",
   "metadata": {},
   "source": [
    "#### 1st order divided differences "
   ]
  },
  {
   "cell_type": "code",
   "execution_count": 6,
   "id": "31446c41-b9ee-416b-9bdf-06f5b30d38c5",
   "metadata": {},
   "outputs": [
    {
     "data": {
      "text/latex": [
       "$\\displaystyle \\left[\\begin{matrix}1\\\\1\\\\\\frac{1}{7}\\\\\\frac{1}{2}\\\\0\\end{matrix}\\right]$"
      ],
      "text/plain": [
       "⎡ 1 ⎤\n",
       "⎢   ⎥\n",
       "⎢ 1 ⎥\n",
       "⎢   ⎥\n",
       "⎢1/7⎥\n",
       "⎢   ⎥\n",
       "⎢1/2⎥\n",
       "⎢   ⎥\n",
       "⎣ 0 ⎦"
      ]
     },
     "execution_count": 6,
     "metadata": {},
     "output_type": "execute_result"
    }
   ],
   "source": [
    "V2 = zeros(n,1)\n",
    "V2[0] = (V1[0+1]-V1[0])/(X[0+1]-X[0])\n",
    "V2[1] = (V1[1+1]-V1[1])/(X[1+1]-X[1])\n",
    "V2[2] = (V1[2+1]-V1[2])/(X[2+1]-X[2])\n",
    "V2[3] = (V1[3+1]-V1[3])/(X[3+1]-X[3])\n",
    "V2"
   ]
  },
  {
   "cell_type": "code",
   "execution_count": 7,
   "id": "64cc651f-f63d-4832-ba3d-9e1608c02b8e",
   "metadata": {},
   "outputs": [
    {
     "data": {
      "text/latex": [
       "$\\displaystyle \\left[\\begin{matrix}0 & -1 & 1\\\\2 & 1 & 1\\\\3 & 2 & \\frac{1}{7}\\\\10 & 3 & \\frac{1}{2}\\\\12 & 4 & 0\\end{matrix}\\right]$"
      ],
      "text/plain": [
       "⎡0   -1   1 ⎤\n",
       "⎢           ⎥\n",
       "⎢2   1    1 ⎥\n",
       "⎢           ⎥\n",
       "⎢3   2   1/7⎥\n",
       "⎢           ⎥\n",
       "⎢10  3   1/2⎥\n",
       "⎢           ⎥\n",
       "⎣12  4    0 ⎦"
      ]
     },
     "execution_count": 7,
     "metadata": {},
     "output_type": "execute_result"
    }
   ],
   "source": [
    "# Ahora en bucle\n",
    "for i in range(n-1):\n",
    " V2[i] = (V1[i+1]-V1[i])/(X[i+1]-X[i]);\n",
    "\n",
    "M = M.row_join(V2)\n",
    "M"
   ]
  },
  {
   "cell_type": "markdown",
   "id": "1c084a0a-beca-4e42-9e54-c258e8a5b209",
   "metadata": {},
   "source": [
    "#### 2nd order divided differences "
   ]
  },
  {
   "cell_type": "code",
   "execution_count": 8,
   "id": "c92fc9dd-2aa0-48b6-98e3-9fc393b731fd",
   "metadata": {},
   "outputs": [
    {
     "data": {
      "text/latex": [
       "$\\displaystyle \\left[\\begin{matrix}0\\\\- \\frac{3}{28}\\\\\\frac{5}{126}\\\\0\\\\0\\end{matrix}\\right]$"
      ],
      "text/plain": [
       "⎡  0  ⎤\n",
       "⎢     ⎥\n",
       "⎢-3/28⎥\n",
       "⎢     ⎥\n",
       "⎢5/126⎥\n",
       "⎢     ⎥\n",
       "⎢  0  ⎥\n",
       "⎢     ⎥\n",
       "⎣  0  ⎦"
      ]
     },
     "execution_count": 8,
     "metadata": {},
     "output_type": "execute_result"
    }
   ],
   "source": [
    "V3 = zeros(n,1)\n",
    "V3[0] = (V2[0+1]-V2[0])/(X[0+2]-X[0])\n",
    "V3[1] = (V2[1+1]-V2[1])/(X[1+2]-X[1])\n",
    "V3[2] = (V2[2+1]-V2[2])/(X[2+2]-X[2])\n",
    "V3"
   ]
  },
  {
   "cell_type": "code",
   "execution_count": 9,
   "id": "4edc5baf",
   "metadata": {},
   "outputs": [
    {
     "data": {
      "text/latex": [
       "$\\displaystyle \\left[\\begin{matrix}0 & -1 & 1 & 0\\\\2 & 1 & 1 & - \\frac{3}{28}\\\\3 & 2 & \\frac{1}{7} & \\frac{5}{126}\\\\10 & 3 & \\frac{1}{2} & 0\\\\12 & 4 & 0 & 0\\end{matrix}\\right]$"
      ],
      "text/plain": [
       "⎡0   -1   1     0  ⎤\n",
       "⎢                  ⎥\n",
       "⎢2   1    1   -3/28⎥\n",
       "⎢                  ⎥\n",
       "⎢3   2   1/7  5/126⎥\n",
       "⎢                  ⎥\n",
       "⎢10  3   1/2    0  ⎥\n",
       "⎢                  ⎥\n",
       "⎣12  4    0     0  ⎦"
      ]
     },
     "execution_count": 9,
     "metadata": {},
     "output_type": "execute_result"
    }
   ],
   "source": [
    "for i in range(n-2):\n",
    " V3[i] = (V2[i+1]-V2[i])/(X[i+2]-X[i]);\n",
    "\n",
    "M = M.row_join(V3)\n",
    "M"
   ]
  },
  {
   "cell_type": "markdown",
   "id": "f39f1334",
   "metadata": {},
   "source": [
    "#### 3rd order divided differences "
   ]
  },
  {
   "cell_type": "code",
   "execution_count": 10,
   "id": "980d2a72",
   "metadata": {},
   "outputs": [
    {
     "data": {
      "text/latex": [
       "$\\displaystyle \\left[\\begin{matrix}- \\frac{3}{280}\\\\\\frac{37}{2520}\\\\0\\\\0\\\\0\\end{matrix}\\right]$"
      ],
      "text/plain": [
       "⎡-3/280⎤\n",
       "⎢      ⎥\n",
       "⎢  37  ⎥\n",
       "⎢ ──── ⎥\n",
       "⎢ 2520 ⎥\n",
       "⎢      ⎥\n",
       "⎢  0   ⎥\n",
       "⎢      ⎥\n",
       "⎢  0   ⎥\n",
       "⎢      ⎥\n",
       "⎣  0   ⎦"
      ]
     },
     "execution_count": 10,
     "metadata": {},
     "output_type": "execute_result"
    }
   ],
   "source": [
    "V4 = zeros(n,1)\n",
    "V4[0] = (V3[0+1]-V3[0])/(X[0+3]-X[0])\n",
    "V4[1] = (V3[1+1]-V3[1])/(X[1+3]-X[1])\n",
    "V4"
   ]
  },
  {
   "cell_type": "code",
   "execution_count": 11,
   "id": "54d972b4",
   "metadata": {},
   "outputs": [
    {
     "data": {
      "text/latex": [
       "$\\displaystyle \\left[\\begin{matrix}0 & -1 & 1 & 0 & - \\frac{3}{280}\\\\2 & 1 & 1 & - \\frac{3}{28} & \\frac{37}{2520}\\\\3 & 2 & \\frac{1}{7} & \\frac{5}{126} & 0\\\\10 & 3 & \\frac{1}{2} & 0 & 0\\\\12 & 4 & 0 & 0 & 0\\end{matrix}\\right]$"
      ],
      "text/plain": [
       "⎡0   -1   1     0    -3/280⎤\n",
       "⎢                          ⎥\n",
       "⎢                      37  ⎥\n",
       "⎢2   1    1   -3/28   ──── ⎥\n",
       "⎢                     2520 ⎥\n",
       "⎢                          ⎥\n",
       "⎢3   2   1/7  5/126    0   ⎥\n",
       "⎢                          ⎥\n",
       "⎢10  3   1/2    0      0   ⎥\n",
       "⎢                          ⎥\n",
       "⎣12  4    0     0      0   ⎦"
      ]
     },
     "execution_count": 11,
     "metadata": {},
     "output_type": "execute_result"
    }
   ],
   "source": [
    "for i in range(n-3):\n",
    " V4[i] = (V3[i+1]-V3[i])/(X[i+3]-X[i]);\n",
    "\n",
    "M = M.row_join(V4)\n",
    "M"
   ]
  },
  {
   "cell_type": "markdown",
   "id": "b4efbc7f",
   "metadata": {},
   "source": [
    "#### 4th order divided differences "
   ]
  },
  {
   "cell_type": "code",
   "execution_count": 12,
   "id": "e0fee5d5",
   "metadata": {},
   "outputs": [
    {
     "data": {
      "text/latex": [
       "$\\displaystyle \\left[\\begin{matrix}\\frac{2}{945}\\\\0\\\\0\\\\0\\\\0\\end{matrix}\\right]$"
      ],
      "text/plain": [
       "⎡2/945⎤\n",
       "⎢     ⎥\n",
       "⎢  0  ⎥\n",
       "⎢     ⎥\n",
       "⎢  0  ⎥\n",
       "⎢     ⎥\n",
       "⎢  0  ⎥\n",
       "⎢     ⎥\n",
       "⎣  0  ⎦"
      ]
     },
     "execution_count": 12,
     "metadata": {},
     "output_type": "execute_result"
    }
   ],
   "source": [
    "V5 = zeros(n,1)\n",
    "V5[0] = (V4[0+1]-V4[0])/(X[0+4]-X[0])\n",
    "V5"
   ]
  },
  {
   "cell_type": "code",
   "execution_count": 13,
   "id": "1e5bb320",
   "metadata": {},
   "outputs": [
    {
     "data": {
      "text/latex": [
       "$\\displaystyle \\left[\\begin{matrix}0 & -1 & 1 & 0 & - \\frac{3}{280} & \\frac{2}{945}\\\\2 & 1 & 1 & - \\frac{3}{28} & \\frac{37}{2520} & 0\\\\3 & 2 & \\frac{1}{7} & \\frac{5}{126} & 0 & 0\\\\10 & 3 & \\frac{1}{2} & 0 & 0 & 0\\\\12 & 4 & 0 & 0 & 0 & 0\\end{matrix}\\right]$"
      ],
      "text/plain": [
       "⎡0   -1   1     0    -3/280  2/945⎤\n",
       "⎢                                 ⎥\n",
       "⎢                      37         ⎥\n",
       "⎢2   1    1   -3/28   ────     0  ⎥\n",
       "⎢                     2520        ⎥\n",
       "⎢                                 ⎥\n",
       "⎢3   2   1/7  5/126    0       0  ⎥\n",
       "⎢                                 ⎥\n",
       "⎢10  3   1/2    0      0       0  ⎥\n",
       "⎢                                 ⎥\n",
       "⎣12  4    0     0      0       0  ⎦"
      ]
     },
     "execution_count": 13,
     "metadata": {},
     "output_type": "execute_result"
    }
   ],
   "source": [
    "for i in range(n-4):\n",
    " V5[i] = (V4[i+1]-V4[i])/(X[i+4]-X[i]);\n",
    "\n",
    "M = M.row_join(V5)\n",
    "M"
   ]
  },
  {
   "cell_type": "markdown",
   "id": "74803c3d",
   "metadata": {},
   "source": [
    "### Divides differences matrix with nested Loop"
   ]
  },
  {
   "cell_type": "code",
   "execution_count": 14,
   "id": "c376b43c",
   "metadata": {},
   "outputs": [
    {
     "data": {
      "text/latex": [
       "$\\displaystyle \\left[\\begin{matrix}0 & -1 & 0 & 0 & 0 & 0\\\\2 & 1 & 0 & 0 & 0 & 0\\\\3 & 2 & 0 & 0 & 0 & 0\\\\10 & 3 & 0 & 0 & 0 & 0\\\\12 & 4 & 0 & 0 & 0 & 0\\end{matrix}\\right]$"
      ],
      "text/plain": [
       "⎡0   -1  0  0  0  0⎤\n",
       "⎢                  ⎥\n",
       "⎢2   1   0  0  0  0⎥\n",
       "⎢                  ⎥\n",
       "⎢3   2   0  0  0  0⎥\n",
       "⎢                  ⎥\n",
       "⎢10  3   0  0  0  0⎥\n",
       "⎢                  ⎥\n",
       "⎣12  4   0  0  0  0⎦"
      ]
     },
     "execution_count": 14,
     "metadata": {},
     "output_type": "execute_result"
    }
   ],
   "source": [
    "V0 = Matrix(X)\n",
    "V1 = Matrix(Y)\n",
    "M = zeros(n, n+1)\n",
    "M[:,0] = V0\n",
    "M[:,1] = V1\n",
    "M"
   ]
  },
  {
   "cell_type": "code",
   "execution_count": 15,
   "id": "8d8d79ca",
   "metadata": {},
   "outputs": [
    {
     "data": {
      "image/png": "[encoded data removed]",
      "text/latex": [
       "$\\displaystyle 2$"
      ],
      "text/plain": [
       "2"
      ]
     },
     "execution_count": 15,
     "metadata": {},
     "output_type": "execute_result"
    }
   ],
   "source": [
    "M[2,1]"
   ]
  },
  {
   "cell_type": "code",
   "execution_count": 16,
   "id": "d90e6f60",
   "metadata": {},
   "outputs": [
    {
     "name": "stdout",
     "output_type": "stream",
     "text": [
      "0 2\n",
      "1 2\n",
      "2 2\n",
      "3 2\n",
      "0 3\n",
      "1 3\n",
      "2 3\n",
      "0 4\n",
      "1 4\n",
      "0 5\n"
     ]
    },
    {
     "data": {
      "text/latex": [
       "$\\displaystyle \\left[\\begin{matrix}0 & -1 & 1 & 0 & - \\frac{3}{280} & \\frac{2}{945}\\\\2 & 1 & 1 & - \\frac{3}{28} & \\frac{37}{2520} & 0\\\\3 & 2 & \\frac{1}{7} & \\frac{5}{126} & 0 & 0\\\\10 & 3 & \\frac{1}{2} & 0 & 0 & 0\\\\12 & 4 & 0 & 0 & 0 & 0\\end{matrix}\\right]$"
      ],
      "text/plain": [
       "⎡0   -1   1     0    -3/280  2/945⎤\n",
       "⎢                                 ⎥\n",
       "⎢                      37         ⎥\n",
       "⎢2   1    1   -3/28   ────     0  ⎥\n",
       "⎢                     2520        ⎥\n",
       "⎢                                 ⎥\n",
       "⎢3   2   1/7  5/126    0       0  ⎥\n",
       "⎢                                 ⎥\n",
       "⎢10  3   1/2    0      0       0  ⎥\n",
       "⎢                                 ⎥\n",
       "⎣12  4    0     0      0       0  ⎦"
      ]
     },
     "execution_count": 16,
     "metadata": {},
     "output_type": "execute_result"
    }
   ],
   "source": [
    "for k in range(2,n+1):\n",
    "    for i in range(n-(k-1)):\n",
    "        print(i,k)\n",
    "        M[i,k] = (M[i+1,k-1]-M[i,k-1])/(X[i+(k-1)]-X[i]);\n",
    "\n",
    "M"
   ]
  },
  {
   "cell_type": "code",
   "execution_count": 17,
   "id": "cbc5fb0a",
   "metadata": {},
   "outputs": [
    {
     "name": "stdout",
     "output_type": "stream",
     "text": [
      "2\n",
      "3\n",
      "4\n",
      "5\n"
     ]
    }
   ],
   "source": [
    "for i in range(2,n+1):\n",
    "    print(i)\n"
   ]
  },
  {
   "cell_type": "markdown",
   "id": "a38c8ace",
   "metadata": {},
   "source": [
    "### Collecting the coefficients for forward and backward polynomial"
   ]
  },
  {
   "cell_type": "code",
   "execution_count": 18,
   "id": "b47689be",
   "metadata": {},
   "outputs": [
    {
     "data": {
      "text/latex": [
       "$\\displaystyle \\left[\\begin{matrix}0\\\\0\\\\0\\\\0\\\\0\\end{matrix}\\right]$"
      ],
      "text/plain": [
       "⎡0⎤\n",
       "⎢ ⎥\n",
       "⎢0⎥\n",
       "⎢ ⎥\n",
       "⎢0⎥\n",
       "⎢ ⎥\n",
       "⎢0⎥\n",
       "⎢ ⎥\n",
       "⎣0⎦"
      ]
     },
     "execution_count": 18,
     "metadata": {},
     "output_type": "execute_result"
    }
   ],
   "source": [
    "# For forward polynomial\n",
    "A = zeros(n,1)\n",
    "B = zeros(n,1)\n",
    "A"
   ]
  },
  {
   "cell_type": "code",
   "execution_count": 19,
   "id": "6a39f446",
   "metadata": {},
   "outputs": [
    {
     "data": {
      "text/latex": [
       "$\\displaystyle \\left[\\begin{matrix}-1\\\\1\\\\0\\\\- \\frac{3}{280}\\\\\\frac{2}{945}\\end{matrix}\\right]$"
      ],
      "text/plain": [
       "⎡  -1  ⎤\n",
       "⎢      ⎥\n",
       "⎢  1   ⎥\n",
       "⎢      ⎥\n",
       "⎢  0   ⎥\n",
       "⎢      ⎥\n",
       "⎢-3/280⎥\n",
       "⎢      ⎥\n",
       "⎣2/945 ⎦"
      ]
     },
     "execution_count": 19,
     "metadata": {},
     "output_type": "execute_result"
    }
   ],
   "source": [
    "for i in range(n):\n",
    "    A[i] = M[0,i+1] \n",
    "\n",
    "A"
   ]
  },
  {
   "cell_type": "code",
   "execution_count": 20,
   "id": "39438fd9",
   "metadata": {},
   "outputs": [
    {
     "data": {
      "text/latex": [
       "$\\displaystyle \\left[\\begin{matrix}4\\\\\\frac{1}{2}\\\\\\frac{5}{126}\\\\\\frac{37}{2520}\\\\\\frac{2}{945}\\end{matrix}\\right]$"
      ],
      "text/plain": [
       "⎡  4  ⎤\n",
       "⎢     ⎥\n",
       "⎢ 1/2 ⎥\n",
       "⎢     ⎥\n",
       "⎢5/126⎥\n",
       "⎢     ⎥\n",
       "⎢ 37  ⎥\n",
       "⎢──── ⎥\n",
       "⎢2520 ⎥\n",
       "⎢     ⎥\n",
       "⎣2/945⎦"
      ]
     },
     "execution_count": 20,
     "metadata": {},
     "output_type": "execute_result"
    }
   ],
   "source": [
    "for i in range(n):\n",
    "    B[i] = M[n-1-i,i+1] \n",
    "\n",
    "B"
   ]
  },
  {
   "cell_type": "markdown",
   "id": "5a10f944",
   "metadata": {},
   "source": [
    "### Creation of Newton's interpolating polynomial"
   ]
  },
  {
   "cell_type": "code",
   "execution_count": 21,
   "id": "ac35da6e",
   "metadata": {},
   "outputs": [
    {
     "data": {
      "image/png": "[encoded data removed]",
      "text/latex": [
       "$\\displaystyle \\left[ 0, \\  2, \\  3, \\  10, \\  12\\right]$"
      ],
      "text/plain": [
       "[0, 2, 3, 10, 12]"
      ]
     },
     "execution_count": 21,
     "metadata": {},
     "output_type": "execute_result"
    }
   ],
   "source": [
    "X"
   ]
  },
  {
   "cell_type": "code",
   "execution_count": 22,
   "id": "60fff92a",
   "metadata": {},
   "outputs": [
    {
     "data": {
      "image/png": "[encoded data removed]",
      "text/latex": [
       "$\\displaystyle \\left[ -1, \\  1, \\  2, \\  3, \\  4\\right]$"
      ],
      "text/plain": [
       "[-1, 1, 2, 3, 4]"
      ]
     },
     "execution_count": 22,
     "metadata": {},
     "output_type": "execute_result"
    }
   ],
   "source": [
    "Y"
   ]
  },
  {
   "cell_type": "code",
   "execution_count": 23,
   "id": "f3d21ea5",
   "metadata": {},
   "outputs": [
    {
     "data": {
      "text/latex": [
       "$\\displaystyle \\left[\\begin{matrix}-1\\\\1\\\\0\\\\- \\frac{3}{280}\\\\\\frac{2}{945}\\end{matrix}\\right]$"
      ],
      "text/plain": [
       "⎡  -1  ⎤\n",
       "⎢      ⎥\n",
       "⎢  1   ⎥\n",
       "⎢      ⎥\n",
       "⎢  0   ⎥\n",
       "⎢      ⎥\n",
       "⎢-3/280⎥\n",
       "⎢      ⎥\n",
       "⎣2/945 ⎦"
      ]
     },
     "execution_count": 23,
     "metadata": {},
     "output_type": "execute_result"
    }
   ],
   "source": [
    "A"
   ]
  },
  {
   "cell_type": "markdown",
   "id": "50975acb",
   "metadata": {},
   "source": [
    "FORWARD POLYNOMIAL - First by \"hand\""
   ]
  },
  {
   "cell_type": "code",
   "execution_count": 24,
   "id": "aed29e21",
   "metadata": {},
   "outputs": [
    {
     "data": {
      "image/png": "[encoded data removed]",
      "text/latex": [
       "$\\displaystyle \\frac{2 x \\left(x - 10\\right) \\left(x - 3\\right) \\left(x - 2\\right)}{945} - \\frac{3 x \\left(x - 3\\right) \\left(x - 2\\right)}{280} + x - 1$"
      ],
      "text/plain": [
       "2⋅x⋅(x - 10)⋅(x - 3)⋅(x - 2)   3⋅x⋅(x - 3)⋅(x - 2)        \n",
       "──────────────────────────── - ─────────────────── + x - 1\n",
       "            945                        280                "
      ]
     },
     "execution_count": 24,
     "metadata": {},
     "output_type": "execute_result"
    }
   ],
   "source": [
    "# progressive\n",
    "P = A[0] + A[1]*S(x-X[0]) + A[2]*S(x-X[0])*S(x-X[1]) + A[3]*(x-X[0])*(x-X[1])*(x-X[2]) \\\n",
    "    + A[4]*(x-X[0])*(x-X[1])*(x-X[2])*(x-X[3])\n",
    "\n",
    "P"
   ]
  },
  {
   "cell_type": "code",
   "execution_count": 25,
   "id": "4f2e8390",
   "metadata": {},
   "outputs": [
    {
     "data": {
      "image/png": "[encoded data removed]",
      "text/latex": [
       "$\\displaystyle \\frac{2 x^{4}}{945} - \\frac{107 x^{3}}{2520} + \\frac{1301 x^{2}}{7560} + \\frac{1019 x}{1260} - 1$"
      ],
      "text/plain": [
       "   4        3         2             \n",
       "2⋅x    107⋅x    1301⋅x    1019⋅x    \n",
       "──── - ────── + ─────── + ────── - 1\n",
       "945     2520      7560     1260     "
      ]
     },
     "execution_count": 25,
     "metadata": {},
     "output_type": "execute_result"
    }
   ],
   "source": [
    "simplify(P)"
   ]
  },
  {
   "cell_type": "code",
   "execution_count": 26,
   "id": "64749345",
   "metadata": {},
   "outputs": [
    {
     "data": {
      "image/png": "[encoded data removed]",
      "text/latex": [
       "$\\displaystyle \\frac{2 x \\left(x - 10\\right) \\left(x - 3\\right) \\left(x - 2\\right)}{945} - \\frac{3 x \\left(x - 3\\right) \\left(x - 2\\right)}{280} + x - 1$"
      ],
      "text/plain": [
       "2⋅x⋅(x - 10)⋅(x - 3)⋅(x - 2)   3⋅x⋅(x - 3)⋅(x - 2)        \n",
       "──────────────────────────── - ─────────────────── + x - 1\n",
       "            945                        280                "
      ]
     },
     "execution_count": 26,
     "metadata": {},
     "output_type": "execute_result"
    }
   ],
   "source": [
    "n = len(X)\n",
    "Pol = A[0]\n",
    "\n",
    "for i in range(1,n):\n",
    "    mult = 1\n",
    "    for j in range(i):\n",
    "        mult *= (x-X[j])\n",
    "    sum = A[i]*mult\n",
    "    Pol += sum\n",
    "\n",
    "Pol"
   ]
  },
  {
   "cell_type": "code",
   "execution_count": 27,
   "id": "9d6b28fd",
   "metadata": {},
   "outputs": [
    {
     "data": {
      "image/png": "[encoded data removed]",
      "text/latex": [
       "$\\displaystyle \\frac{2 x^{4}}{945} - \\frac{107 x^{3}}{2520} + \\frac{1301 x^{2}}{7560} + \\frac{1019 x}{1260} - 1$"
      ],
      "text/plain": [
       "   4        3         2             \n",
       "2⋅x    107⋅x    1301⋅x    1019⋅x    \n",
       "──── - ────── + ─────── + ────── - 1\n",
       "945     2520      7560     1260     "
      ]
     },
     "execution_count": 27,
     "metadata": {},
     "output_type": "execute_result"
    }
   ],
   "source": [
    "simplify(Pol)"
   ]
  },
  {
   "cell_type": "code",
   "execution_count": 28,
   "id": "fc26960d",
   "metadata": {},
   "outputs": [
    {
     "data": {
      "image/png": "[encoded data removed]",
      "text/latex": [
       "$\\displaystyle - \\frac{5}{84}$"
      ],
      "text/plain": [
       "-5/84"
      ]
     },
     "execution_count": 28,
     "metadata": {},
     "output_type": "execute_result"
    }
   ],
   "source": [
    "# Substituting for an entered value of x\n",
    "xx = 1\n",
    "\n",
    "interp = Pol.subs(x,S(xx))\n",
    "interp"
   ]
  },
  {
   "cell_type": "code",
   "execution_count": 29,
   "id": "03f1424e",
   "metadata": {},
   "outputs": [
    {
     "data": {
      "image/png": "[encoded data removed]",
      "text/plain": [
       "<Figure size 432x288 with 1 Axes>"
      ]
     },
     "metadata": {
      "needs_background": "light"
     },
     "output_type": "display_data"
    }
   ],
   "source": [
    "# Graphics\n",
    "p1 = plot(Pol, show=True)"
   ]
  },
  {
   "cell_type": "markdown",
   "id": "fcba3833-f402-4b50-bd4d-f334d18b2b3c",
   "metadata": {},
   "source": [
    "BACKWARDS POLYNOMIAL - First by \"hand\""
   ]
  },
  {
   "cell_type": "code",
   "execution_count": 30,
   "id": "0deb3737-14e8-4208-9478-e018ff8d7f21",
   "metadata": {},
   "outputs": [
    {
     "data": {
      "image/png": "[encoded data removed]",
      "text/latex": [
       "$\\displaystyle \\frac{x}{2} + \\left(\\frac{2 x}{945} - \\frac{8}{315}\\right) \\left(x - 10\\right) \\left(x - 3\\right) \\left(x - 2\\right) + \\left(\\frac{37 x}{2520} - \\frac{37}{210}\\right) \\left(x - 10\\right) \\left(x - 3\\right) + \\left(\\frac{5 x}{126} - \\frac{10}{21}\\right) \\left(x - 10\\right) - 2$"
      ],
      "text/plain": [
       "x   ⎛2⋅x    8 ⎞                            ⎛37⋅x    37⎞                    ⎛5⋅\n",
       "─ + ⎜─── - ───⎟⋅(x - 10)⋅(x - 3)⋅(x - 2) + ⎜──── - ───⎟⋅(x - 10)⋅(x - 3) + ⎜──\n",
       "2   ⎝945   315⎠                            ⎝2520   210⎠                    ⎝12\n",
       "\n",
       "x   10⎞             \n",
       "─ - ──⎟⋅(x - 10) - 2\n",
       "6   21⎠             "
      ]
     },
     "execution_count": 30,
     "metadata": {},
     "output_type": "execute_result"
    }
   ],
   "source": [
    "# REGRESSIVE\n",
    "P = B[0] + B[1]*S(x-X[4]) + B[2]*S(x-X[4])*S(x-X[3]) + B[3]*(x-X[4])*(x-X[3])*(x-X[2]) \\\n",
    "    + B[4]*(x-X[4])*(x-X[3])*(x-X[2])*(x-X[1])\n",
    "\n",
    "P"
   ]
  },
  {
   "cell_type": "code",
   "execution_count": 55,
   "id": "63b361b1",
   "metadata": {},
   "outputs": [
    {
     "data": {
      "image/png": "[encoded data removed]",
      "text/latex": [
       "$\\displaystyle \\frac{2 x^{4}}{945} - \\frac{107 x^{3}}{2520} + \\frac{1301 x^{2}}{7560} + \\frac{1019 x}{1260} - 1$"
      ],
      "text/plain": [
       "   4        3         2             \n",
       "2⋅x    107⋅x    1301⋅x    1019⋅x    \n",
       "──── - ────── + ─────── + ────── - 1\n",
       "945     2520      7560     1260     "
      ]
     },
     "execution_count": 55,
     "metadata": {},
     "output_type": "execute_result"
    }
   ],
   "source": [
    "simplify(P)"
   ]
  },
  {
   "cell_type": "code",
   "execution_count": 58,
   "id": "8fde82e5",
   "metadata": {},
   "outputs": [
    {
     "name": "stdout",
     "output_type": "stream",
     "text": [
      "[0, 2, 3, 10, 12]\n",
      "2\n"
     ]
    }
   ],
   "source": [
    "print(X)\n",
    "print(X[-4])"
   ]
  },
  {
   "cell_type": "code",
   "execution_count": 53,
   "id": "ff0f74a4",
   "metadata": {},
   "outputs": [
    {
     "data": {
      "image/png": "[encoded data removed]",
      "text/latex": [
       "$\\displaystyle \\frac{x}{2} + \\frac{2 \\left(x - 12\\right) \\left(x - 10\\right) \\left(x - 3\\right) \\left(x - 2\\right)}{945} + \\frac{37 \\left(x - 12\\right) \\left(x - 10\\right) \\left(x - 3\\right)}{2520} + \\frac{5 \\left(x - 12\\right) \\left(x - 10\\right)}{126} - 2$"
      ],
      "text/plain": [
       "x   2⋅(x - 12)⋅(x - 10)⋅(x - 3)⋅(x - 2)   37⋅(x - 12)⋅(x - 10)⋅(x - 3)   5⋅(x \n",
       "─ + ─────────────────────────────────── + ──────────────────────────── + ─────\n",
       "2                   945                               2520                    \n",
       "\n",
       "- 12)⋅(x - 10)    \n",
       "────────────── - 2\n",
       "   126            "
      ]
     },
     "execution_count": 53,
     "metadata": {},
     "output_type": "execute_result"
    }
   ],
   "source": [
    "# Now in a loop\n",
    "n = len(X)\n",
    "Pol = B[0]\n",
    "\n",
    "for i in range(1,n):\n",
    "    mult = 1\n",
    "    for j in range(i):\n",
    "        mult *= (x-X[-j-1])\n",
    "    sum = B[i]*mult\n",
    "    Pol += sum\n",
    "    \n",
    "Pol"
   ]
  },
  {
   "cell_type": "code",
   "execution_count": 54,
   "id": "eb26b4d0",
   "metadata": {},
   "outputs": [
    {
     "data": {
      "image/png": "[encoded data removed]",
      "text/latex": [
       "$\\displaystyle \\frac{2 x^{4}}{945} - \\frac{107 x^{3}}{2520} + \\frac{1301 x^{2}}{7560} + \\frac{1019 x}{1260} - 1$"
      ],
      "text/plain": [
       "   4        3         2             \n",
       "2⋅x    107⋅x    1301⋅x    1019⋅x    \n",
       "──── - ────── + ─────── + ────── - 1\n",
       "945     2520      7560     1260     "
      ]
     },
     "execution_count": 54,
     "metadata": {},
     "output_type": "execute_result"
    }
   ],
   "source": [
    "simplify(Pol)"
   ]
  }
 ],
 "metadata": {
  "kernelspec": {
   "display_name": "Python 3 (ipykernel)",
   "language": "python",
   "name": "python3"
  },
  "language_info": {
   "codemirror_mode": {
    "name": "ipython",
    "version": 3
   },
   "file_extension": ".py",
   "mimetype": "text/x-python",
   "name": "python",
   "nbconvert_exporter": "python",
   "pygments_lexer": "ipython3",
   "version": "3.9.7"
  }
 },
 "nbformat": 4,
 "nbformat_minor": 5
}
