{
 "cells": [
  {
   "cell_type": "markdown",
   "id": "12be97c4-208f-46fb-b104-6bad1c4ac93d",
   "metadata": {},
   "source": [
    "# Practice 1 of the Computational Mechanics course of the Simon Bolivar University\n",
    "\n",
    "## Interpolation of curves using the Lagrange polynomial"
   ]
  },
  {
   "cell_type": "code",
   "execution_count": 1,
   "id": "97c81944-ec58-4045-881a-226b86dc924f",
   "metadata": {},
   "outputs": [
    {
     "name": "stdout",
     "output_type": "stream",
     "text": [
      "IPython console for SymPy 1.9 (Python 3.9.7-64-bit) (ground types: python)\n",
      "\n",
      "These commands were executed:\n",
      ">>> from __future__ import division\n",
      ">>> from sympy import *\n",
      ">>> x, y, z, t = symbols('x y z t')\n",
      ">>> k, m, n = symbols('k m n', integer=True)\n",
      ">>> f, g, h = symbols('f g h', cls=Function)\n",
      ">>> init_printing()\n",
      "\n",
      "Documentation can be found at https://docs.sympy.org/1.9/\n",
      "\n"
     ]
    }
   ],
   "source": [
    "from sympy import init_session\n",
    "init_session(use_latex=True)\n",
    "import numpy as np\n",
    "import matplotlib.pyplot as plt\n",
    "%matplotlib inline"
   ]
  },
  {
   "cell_type": "code",
   "execution_count": 2,
   "id": "50742e31-871c-4c2b-8fdb-74c10906f8b2",
   "metadata": {},
   "outputs": [],
   "source": [
    "def Lagrange(X:list,Y:list,x_val):\n",
    "    # Number of points\n",
    "    nx = len(X)\n",
    "    ny = len(Y)\n",
    "    \n",
    "    # Veifying that X and Y are lists\n",
    "    if not isinstance(X, list):\n",
    "        raise ValueError(\"X and Y arguments must be lists\")\n",
    "    elif not isinstance(Y, list):\n",
    "        raise ValueError(\"X and Y arguments must be lists\")\n",
    "    # Checking that X,Y lists are the same size\n",
    "    elif nx!=ny:\n",
    "        raise ValueError(\"X,Y lists of values are not the same size\")\n",
    "    # Checking that there are no repeated values of X\n",
    "    elif len(set(X))!=nx:\n",
    "        List=[]\n",
    "        for i in X:\n",
    "            if List.count(i)>0:\n",
    "                print(f\"The value {i} of X is repeated\\n\",i)\n",
    "            else:\n",
    "                List.append(i)\n",
    "        raise ValueError(\"There are repeated values of X\")\n",
    "     \n",
    "    # Lagrange interpolation method\n",
    "    else:\n",
    "        # Calculation of Lagrange multipliers\n",
    "        n = nx\n",
    "        L = zeros(n,1)\n",
    "        for i in range(n):\n",
    "            num = [(x-X[j]) for j in range(n) if j!=i]\n",
    "            den = [(X[i]-X[j]) for j in range(n) if j!=i]\n",
    "            N, D = 1, 1 \n",
    "            for nn in num: N*=nn\n",
    "            for dd in den: D*=dd\n",
    "            L[i] = N/D\n",
    "        \n",
    "        # Interpolating polynomial\n",
    "        Pol = 0\n",
    "        for i in range(n):\n",
    "            Pol += Y[i] * L[i]\n",
    "        \n",
    "        # Interpolation\n",
    "        y_val = Pol.subs(x,x_val)\n",
    "        # Graphics\n",
    "        xx = np.linspace(X[0]-1, X[-1]+1, 1000)\n",
    "        yy = lambdify(x, Pol)(xx)\n",
    "        plt.plot(xx, yy, c=\"black\")\n",
    "        plt.plot(X, Y, 'o', c =\"black\")\n",
    "        if isinstance(x_val, int):\n",
    "            plt.plot(x_val, y_val.evalf(),'o',c=\"tab:red\")\n",
    "        plt.show()        \n",
    "        \n",
    "    return(y_val,L,Pol)"
   ]
  },
  {
   "cell_type": "code",
   "execution_count": 3,
   "id": "241bcdff-45e9-42d9-9ebe-90445634c59f",
   "metadata": {},
   "outputs": [],
   "source": [
    "X = [0,2,3,10,12]\n",
    "Y = [-1,1,2,3,4]"
   ]
  },
  {
   "cell_type": "code",
   "execution_count": 4,
   "id": "72fcbe09-0248-47ff-b9c1-390070c726dc",
   "metadata": {},
   "outputs": [
    {
     "data": {
      "image/png": "[encoded data removed]",
      "text/plain": [
       "<Figure size 432x288 with 1 Axes>"
      ]
     },
     "metadata": {
      "needs_background": "light"
     },
     "output_type": "display_data"
    }
   ],
   "source": [
    "yy, L, P = Lagrange(X,Y,1)"
   ]
  },
  {
   "cell_type": "code",
   "execution_count": 9,
   "id": "1b793f99-70ae-4e18-9a32-f2a7656b6bbc",
   "metadata": {},
   "outputs": [
    {
     "data": {
      "image/png": "[encoded data removed]",
      "text/latex": [
       "$\\displaystyle - \\frac{x \\left(x - 12\\right) \\left(x - 10\\right) \\left(x - 3\\right)}{160} + \\frac{2 x \\left(x - 12\\right) \\left(x - 10\\right) \\left(x - 2\\right)}{189} - \\frac{3 x \\left(x - 12\\right) \\left(x - 3\\right) \\left(x - 2\\right)}{1120} + \\frac{x \\left(x - 10\\right) \\left(x - 3\\right) \\left(x - 2\\right)}{540} - \\frac{\\left(x - 12\\right) \\left(x - 10\\right) \\left(x - 3\\right) \\left(x - 2\\right)}{720}$"
      ],
      "text/plain": [
       "  x⋅(x - 12)⋅(x - 10)⋅(x - 3)   2⋅x⋅(x - 12)⋅(x - 10)⋅(x - 2)   3⋅x⋅(x - 12)⋅(\n",
       "- ─────────────────────────── + ───────────────────────────── - ──────────────\n",
       "              160                            189                            11\n",
       "\n",
       "x - 3)⋅(x - 2)   x⋅(x - 10)⋅(x - 3)⋅(x - 2)   (x - 12)⋅(x - 10)⋅(x - 3)⋅(x - 2\n",
       "────────────── + ────────────────────────── - ────────────────────────────────\n",
       "20                          540                              720              \n",
       "\n",
       ")\n",
       "─\n",
       " "
      ]
     },
     "execution_count": 9,
     "metadata": {},
     "output_type": "execute_result"
    }
   ],
   "source": [
    "P"
   ]
  },
  {
   "cell_type": "code",
   "execution_count": 6,
   "id": "1ad2743d-61c9-4768-ac28-017cc5c0f9e3",
   "metadata": {},
   "outputs": [
    {
     "data": {
      "image/png": "[encoded data removed]",
      "text/latex": [
       "$\\displaystyle \\frac{2 x^{4}}{945} - \\frac{107 x^{3}}{2520} + \\frac{1301 x^{2}}{7560} + \\frac{1019 x}{1260} - 1$"
      ],
      "text/plain": [
       "   4        3         2             \n",
       "2⋅x    107⋅x    1301⋅x    1019⋅x    \n",
       "──── - ────── + ─────── + ────── - 1\n",
       "945     2520      7560     1260     "
      ]
     },
     "execution_count": 6,
     "metadata": {},
     "output_type": "execute_result"
    }
   ],
   "source": [
    "simplify(P)"
   ]
  },
  {
   "cell_type": "code",
   "execution_count": 7,
   "id": "fb39bd1d-ee9c-4cc8-b01c-3a9238ed11c5",
   "metadata": {},
   "outputs": [
    {
     "data": {
      "text/latex": [
       "$\\displaystyle \\left[\\begin{matrix}\\frac{\\left(x - 12\\right) \\left(x - 10\\right) \\left(x - 3\\right) \\left(x - 2\\right)}{720}\\\\- \\frac{x \\left(x - 12\\right) \\left(x - 10\\right) \\left(x - 3\\right)}{160}\\\\\\frac{x \\left(x - 12\\right) \\left(x - 10\\right) \\left(x - 2\\right)}{189}\\\\- \\frac{x \\left(x - 12\\right) \\left(x - 3\\right) \\left(x - 2\\right)}{1120}\\\\\\frac{x \\left(x - 10\\right) \\left(x - 3\\right) \\left(x - 2\\right)}{2160}\\end{matrix}\\right]$"
      ],
      "text/plain": [
       "⎡(x - 12)⋅(x - 10)⋅(x - 3)⋅(x - 2)⎤\n",
       "⎢─────────────────────────────────⎥\n",
       "⎢               720               ⎥\n",
       "⎢                                 ⎥\n",
       "⎢  -x⋅(x - 12)⋅(x - 10)⋅(x - 3)   ⎥\n",
       "⎢  ─────────────────────────────  ⎥\n",
       "⎢               160               ⎥\n",
       "⎢                                 ⎥\n",
       "⎢   x⋅(x - 12)⋅(x - 10)⋅(x - 2)   ⎥\n",
       "⎢   ───────────────────────────   ⎥\n",
       "⎢               189               ⎥\n",
       "⎢                                 ⎥\n",
       "⎢  -x⋅(x - 12)⋅(x - 3)⋅(x - 2)    ⎥\n",
       "⎢  ────────────────────────────   ⎥\n",
       "⎢              1120               ⎥\n",
       "⎢                                 ⎥\n",
       "⎢   x⋅(x - 10)⋅(x - 3)⋅(x - 2)    ⎥\n",
       "⎢   ──────────────────────────    ⎥\n",
       "⎣              2160               ⎦"
      ]
     },
     "execution_count": 7,
     "metadata": {},
     "output_type": "execute_result"
    }
   ],
   "source": [
    "L"
   ]
  },
  {
   "cell_type": "code",
   "execution_count": 8,
   "id": "a680fb3a-846c-4711-b8d8-d28b42210951",
   "metadata": {},
   "outputs": [
    {
     "data": {
      "image/png": "[encoded data removed]",
      "text/latex": [
       "$\\displaystyle - \\frac{5}{84}$"
      ],
      "text/plain": [
       "-5/84"
      ]
     },
     "execution_count": 8,
     "metadata": {},
     "output_type": "execute_result"
    }
   ],
   "source": [
    "yy"
   ]
  }
 ],
 "metadata": {
  "kernelspec": {
   "display_name": "Python 3 (ipykernel)",
   "language": "python",
   "name": "python3"
  },
  "language_info": {
   "codemirror_mode": {
    "name": "ipython",
    "version": 3
   },
   "file_extension": ".py",
   "mimetype": "text/x-python",
   "name": "python",
   "nbconvert_exporter": "python",
   "pygments_lexer": "ipython3",
   "version": "3.9.7"
  }
 },
 "nbformat": 4,
 "nbformat_minor": 5
}
