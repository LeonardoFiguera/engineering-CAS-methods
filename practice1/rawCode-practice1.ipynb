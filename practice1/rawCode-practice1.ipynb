{
 "cells": [
  {
   "cell_type": "markdown",
   "id": "a5e21cfc",
   "metadata": {},
   "source": [
    "# Raw code for Practice 1 (Lagrange interpolation)\n",
    "\n",
    "This notebook is for practicing the method and testing the features of Python and Sympy that will help develop a better final version of the code."
   ]
  },
  {
   "cell_type": "code",
   "execution_count": 1,
   "id": "c720c4cb",
   "metadata": {},
   "outputs": [
    {
     "name": "stdout",
     "output_type": "stream",
     "text": [
      "IPython console for SymPy 1.9 (Python 3.9.7-64-bit) (ground types: python)\n",
      "\n",
      "These commands were executed:\n",
      ">>> from __future__ import division\n",
      ">>> from sympy import *\n",
      ">>> x, y, z, t = symbols('x y z t')\n",
      ">>> k, m, n = symbols('k m n', integer=True)\n",
      ">>> f, g, h = symbols('f g h', cls=Function)\n",
      ">>> init_printing()\n",
      "\n",
      "Documentation can be found at https://docs.sympy.org/1.9/\n",
      "\n"
     ]
    }
   ],
   "source": [
    "import numpy as np\n",
    "from sympy import init_session\n",
    "init_session(use_latex=True)\n",
    "%matplotlib inline"
   ]
  },
  {
   "cell_type": "code",
   "execution_count": 2,
   "id": "ad87d952",
   "metadata": {},
   "outputs": [
    {
     "name": "stderr",
     "output_type": "stream",
     "text": [
      "C:\\Users\\Indatech\\anaconda3\\lib\\site-packages\\IPython\\lib\\latextools.py:126: MatplotlibDeprecationWarning: \n",
      "The to_png function was deprecated in Matplotlib 3.4 and will be removed two minor releases later. Use mathtext.math_to_image instead.\n",
      "  mt.to_png(f, s, fontsize=12, dpi=dpi, color=color)\n",
      "C:\\Users\\Indatech\\anaconda3\\lib\\site-packages\\IPython\\lib\\latextools.py:126: MatplotlibDeprecationWarning: \n",
      "The to_rgba function was deprecated in Matplotlib 3.4 and will be removed two minor releases later. Use mathtext.math_to_image instead.\n",
      "  mt.to_png(f, s, fontsize=12, dpi=dpi, color=color)\n",
      "C:\\Users\\Indatech\\anaconda3\\lib\\site-packages\\IPython\\lib\\latextools.py:126: MatplotlibDeprecationWarning: \n",
      "The to_mask function was deprecated in Matplotlib 3.4 and will be removed two minor releases later. Use mathtext.math_to_image instead.\n",
      "  mt.to_png(f, s, fontsize=12, dpi=dpi, color=color)\n",
      "C:\\Users\\Indatech\\anaconda3\\lib\\site-packages\\IPython\\lib\\latextools.py:126: MatplotlibDeprecationWarning: \n",
      "The MathtextBackendBitmap class was deprecated in Matplotlib 3.4 and will be removed two minor releases later. Use mathtext.math_to_image instead.\n",
      "  mt.to_png(f, s, fontsize=12, dpi=dpi, color=color)\n"
     ]
    },
    {
     "data": {
      "image/png": "[encoded data removed]",
      "text/latex": [
       "$\\displaystyle 5$"
      ],
      "text/plain": [
       "5"
      ]
     },
     "execution_count": 2,
     "metadata": {},
     "output_type": "execute_result"
    }
   ],
   "source": [
    "# Experimental data to be interpolated\n",
    "X = [0,2,3,10,12]\n",
    "Y = [-1,1,2,3,4]\n",
    "n = len(X)\n",
    "n"
   ]
  },
  {
   "cell_type": "code",
   "execution_count": 3,
   "id": "cf666d74",
   "metadata": {},
   "outputs": [
    {
     "data": {
      "text/latex": [
       "$\\displaystyle \\left[\\begin{matrix}0\\\\0\\\\0\\\\0\\\\0\\end{matrix}\\right]$"
      ],
      "text/plain": [
       "⎡0⎤\n",
       "⎢ ⎥\n",
       "⎢0⎥\n",
       "⎢ ⎥\n",
       "⎢0⎥\n",
       "⎢ ⎥\n",
       "⎢0⎥\n",
       "⎢ ⎥\n",
       "⎣0⎦"
      ]
     },
     "execution_count": 3,
     "metadata": {},
     "output_type": "execute_result"
    }
   ],
   "source": [
    "L = zeros(n,1)\n",
    "L"
   ]
  },
  {
   "cell_type": "code",
   "execution_count": 4,
   "id": "e8bca026",
   "metadata": {},
   "outputs": [
    {
     "data": {
      "text/latex": [
       "$\\displaystyle \\left[\\begin{matrix}-1 & 1 & 2 & 3 & 4\\end{matrix}\\right]$"
      ],
      "text/plain": [
       "[-1  1  2  3  4]"
      ]
     },
     "execution_count": 4,
     "metadata": {},
     "output_type": "execute_result"
    }
   ],
   "source": [
    "X = Array(X)\n",
    "Y = Array(Y)\n",
    "Y"
   ]
  },
  {
   "cell_type": "code",
   "execution_count": 38,
   "id": "4c03d613",
   "metadata": {},
   "outputs": [
    {
     "data": {
      "text/latex": [
       "$\\displaystyle \\left[\\begin{matrix}\\frac{\\left(x - 12\\right) \\left(x - 10\\right) \\left(x - 3\\right) \\left(x - 2\\right)}{720}\\\\- \\frac{x \\left(x - 12\\right) \\left(x - 10\\right) \\left(x - 3\\right)}{160}\\\\\\frac{x \\left(x - 12\\right) \\left(x - 10\\right) \\left(x - 2\\right)}{189}\\\\- \\frac{x \\left(x - 12\\right) \\left(x - 3\\right) \\left(x - 2\\right)}{1120}\\\\\\frac{x \\left(x - 10\\right) \\left(x - 3\\right) \\left(x - 2\\right)}{2160}\\end{matrix}\\right]$"
      ],
      "text/plain": [
       "⎡(x - 12)⋅(x - 10)⋅(x - 3)⋅(x - 2)⎤\n",
       "⎢─────────────────────────────────⎥\n",
       "⎢               720               ⎥\n",
       "⎢                                 ⎥\n",
       "⎢  -x⋅(x - 12)⋅(x - 10)⋅(x - 3)   ⎥\n",
       "⎢  ─────────────────────────────  ⎥\n",
       "⎢               160               ⎥\n",
       "⎢                                 ⎥\n",
       "⎢   x⋅(x - 12)⋅(x - 10)⋅(x - 2)   ⎥\n",
       "⎢   ───────────────────────────   ⎥\n",
       "⎢               189               ⎥\n",
       "⎢                                 ⎥\n",
       "⎢  -x⋅(x - 12)⋅(x - 3)⋅(x - 2)    ⎥\n",
       "⎢  ────────────────────────────   ⎥\n",
       "⎢              1120               ⎥\n",
       "⎢                                 ⎥\n",
       "⎢   x⋅(x - 10)⋅(x - 3)⋅(x - 2)    ⎥\n",
       "⎢   ──────────────────────────    ⎥\n",
       "⎣              2160               ⎦"
      ]
     },
     "execution_count": 38,
     "metadata": {},
     "output_type": "execute_result"
    }
   ],
   "source": [
    "# Lagrange multipliers\n",
    "L[0] = (x-X[1])*(x-X[2])*(x-X[3])*(x-X[4]) \\\n",
    "/ ((X[0]-X[1])*(X[0]-X[2])*(X[0]-X[3])*(X[0]-X[4]))\n",
    "L[1] = (x-X[0])*(x-X[2])*(x-X[3])*(x-X[4]) \\\n",
    "/ ((X[1]-X[0])*(X[1]-X[2])*(X[1]-X[3])*(X[1]-X[4]))\n",
    "L[2] = (x-X[0])*(x-X[1])*(x-X[3])*(x-X[4]) \\\n",
    "/ ((X[2]-X[0])*(X[2]-X[1])*(X[2]-X[3])*(X[2]-X[4]))\n",
    "L[3] = (x-X[0])*(x-X[1])*(x-X[2])*(x-X[4]) \\\n",
    "/ ((X[3]-X[0])*(X[3]-X[1])*(X[3]-X[2])*(X[3]-X[4]))\n",
    "L[4] = (x-X[0])*(x-X[1])*(x-X[2])*(x-X[3]) \\\n",
    "/ ((X[4]-X[0])*(X[4]-X[1])*(X[4]-X[2])*(X[4]-X[3]))\n",
    "\n",
    "L"
   ]
  },
  {
   "cell_type": "code",
   "execution_count": 20,
   "id": "cd33259f",
   "metadata": {},
   "outputs": [
    {
     "data": {
      "text/latex": [
       "$\\displaystyle \\left[\\begin{matrix}\\frac{\\left(x - 12\\right) \\left(x - 10\\right) \\left(x - 3\\right) \\left(x - 2\\right)}{720}\\\\- \\frac{x \\left(x - 12\\right) \\left(x - 10\\right) \\left(x - 3\\right)}{160}\\\\\\frac{x \\left(x - 12\\right) \\left(x - 10\\right) \\left(x - 2\\right)}{189}\\\\- \\frac{x \\left(x - 12\\right) \\left(x - 3\\right) \\left(x - 2\\right)}{1120}\\\\\\frac{x \\left(x - 10\\right) \\left(x - 3\\right) \\left(x - 2\\right)}{2160}\\end{matrix}\\right]$"
      ],
      "text/plain": [
       "⎡(x - 12)⋅(x - 10)⋅(x - 3)⋅(x - 2)⎤\n",
       "⎢─────────────────────────────────⎥\n",
       "⎢               720               ⎥\n",
       "⎢                                 ⎥\n",
       "⎢  -x⋅(x - 12)⋅(x - 10)⋅(x - 3)   ⎥\n",
       "⎢  ─────────────────────────────  ⎥\n",
       "⎢               160               ⎥\n",
       "⎢                                 ⎥\n",
       "⎢   x⋅(x - 12)⋅(x - 10)⋅(x - 2)   ⎥\n",
       "⎢   ───────────────────────────   ⎥\n",
       "⎢               189               ⎥\n",
       "⎢                                 ⎥\n",
       "⎢  -x⋅(x - 12)⋅(x - 3)⋅(x - 2)    ⎥\n",
       "⎢  ────────────────────────────   ⎥\n",
       "⎢              1120               ⎥\n",
       "⎢                                 ⎥\n",
       "⎢   x⋅(x - 10)⋅(x - 3)⋅(x - 2)    ⎥\n",
       "⎢   ──────────────────────────    ⎥\n",
       "⎣              2160               ⎦"
      ]
     },
     "execution_count": 20,
     "metadata": {},
     "output_type": "execute_result"
    }
   ],
   "source": [
    "# Lagrange multipliers with for loop and list comprehensions\n",
    "L = zeros(n,1)\n",
    "for i in range(n):\n",
    "    num = [x-X[j] for j in range(n) if j!=i]\n",
    "    den = [X[i]-X[j] for j in range(n) if j!=i]\n",
    "    N, D = 1, 1\n",
    "    for k in range(len(num)):\n",
    "        N *= num[k]\n",
    "        D *= den[k]\n",
    "    L[i] = N/D\n",
    "L"
   ]
  },
  {
   "cell_type": "code",
   "execution_count": 21,
   "id": "3671b5e2",
   "metadata": {},
   "outputs": [
    {
     "data": {
      "text/latex": [
       "$\\displaystyle \\left[\\begin{matrix}\\frac{\\left(x - 12\\right) \\left(x - 10\\right) \\left(x - 3\\right) \\left(x - 2\\right)}{720}\\\\- \\frac{x \\left(x - 12\\right) \\left(x - 10\\right) \\left(x - 3\\right)}{160}\\\\\\frac{x \\left(x - 12\\right) \\left(x - 10\\right) \\left(x - 2\\right)}{189}\\\\- \\frac{x \\left(x - 12\\right) \\left(x - 3\\right) \\left(x - 2\\right)}{1120}\\\\\\frac{x \\left(x - 10\\right) \\left(x - 3\\right) \\left(x - 2\\right)}{2160}\\end{matrix}\\right]$"
      ],
      "text/plain": [
       "⎡(x - 12)⋅(x - 10)⋅(x - 3)⋅(x - 2)⎤\n",
       "⎢─────────────────────────────────⎥\n",
       "⎢               720               ⎥\n",
       "⎢                                 ⎥\n",
       "⎢  -x⋅(x - 12)⋅(x - 10)⋅(x - 3)   ⎥\n",
       "⎢  ─────────────────────────────  ⎥\n",
       "⎢               160               ⎥\n",
       "⎢                                 ⎥\n",
       "⎢   x⋅(x - 12)⋅(x - 10)⋅(x - 2)   ⎥\n",
       "⎢   ───────────────────────────   ⎥\n",
       "⎢               189               ⎥\n",
       "⎢                                 ⎥\n",
       "⎢  -x⋅(x - 12)⋅(x - 3)⋅(x - 2)    ⎥\n",
       "⎢  ────────────────────────────   ⎥\n",
       "⎢              1120               ⎥\n",
       "⎢                                 ⎥\n",
       "⎢   x⋅(x - 10)⋅(x - 3)⋅(x - 2)    ⎥\n",
       "⎢   ──────────────────────────    ⎥\n",
       "⎣              2160               ⎦"
      ]
     },
     "execution_count": 21,
     "metadata": {},
     "output_type": "execute_result"
    }
   ],
   "source": [
    "# A better version\n",
    "L = zeros(n,1)\n",
    "for i in range(n):\n",
    "    num = [(x-X[j]) for j in range(n) if j!=i]\n",
    "    den = [(X[i]-X[j]) for j in range(n) if j!=i]\n",
    "    N, D = 1, 1 \n",
    "    for nn in num: N*=nn\n",
    "    for dd in den: D*=dd\n",
    "    L[i] = N/D\n",
    "L"
   ]
  },
  {
   "cell_type": "code",
   "execution_count": 23,
   "id": "50bb8342",
   "metadata": {},
   "outputs": [
    {
     "data": {
      "image/png": "[encoded data removed]",
      "text/latex": [
       "$\\displaystyle - \\frac{x \\left(x - 12\\right) \\left(x - 10\\right) \\left(x - 3\\right)}{160} + \\frac{2 x \\left(x - 12\\right) \\left(x - 10\\right) \\left(x - 2\\right)}{189} - \\frac{3 x \\left(x - 12\\right) \\left(x - 3\\right) \\left(x - 2\\right)}{1120} + \\frac{x \\left(x - 10\\right) \\left(x - 3\\right) \\left(x - 2\\right)}{540} - \\frac{\\left(x - 12\\right) \\left(x - 10\\right) \\left(x - 3\\right) \\left(x - 2\\right)}{720}$"
      ],
      "text/plain": [
       "  x⋅(x - 12)⋅(x - 10)⋅(x - 3)   2⋅x⋅(x - 12)⋅(x - 10)⋅(x - 2)   3⋅x⋅(x - 12)⋅(\n",
       "- ─────────────────────────── + ───────────────────────────── - ──────────────\n",
       "              160                            189                            11\n",
       "\n",
       "x - 3)⋅(x - 2)   x⋅(x - 10)⋅(x - 3)⋅(x - 2)   (x - 12)⋅(x - 10)⋅(x - 3)⋅(x - 2\n",
       "────────────── + ────────────────────────── - ────────────────────────────────\n",
       "20                          540                              720              \n",
       "\n",
       ")\n",
       "─\n",
       " "
      ]
     },
     "execution_count": 23,
     "metadata": {},
     "output_type": "execute_result"
    }
   ],
   "source": [
    "# Interpolating polynomial\n",
    "Pol = 0\n",
    "for i in range(n):\n",
    "    Pol += Y[i] * L[i]\n",
    "\n",
    "Pol"
   ]
  },
  {
   "cell_type": "code",
   "execution_count": 24,
   "id": "08cb85f8",
   "metadata": {},
   "outputs": [
    {
     "data": {
      "image/png": "[encoded data removed]",
      "text/latex": [
       "$\\displaystyle \\frac{2 x^{4}}{945} - \\frac{107 x^{3}}{2520} + \\frac{1301 x^{2}}{7560} + \\frac{1019 x}{1260} - 1$"
      ],
      "text/plain": [
       "   4        3         2             \n",
       "2⋅x    107⋅x    1301⋅x    1019⋅x    \n",
       "──── - ────── + ─────── + ────── - 1\n",
       "945     2520      7560     1260     "
      ]
     },
     "execution_count": 24,
     "metadata": {},
     "output_type": "execute_result"
    }
   ],
   "source": [
    "simplify(Pol)"
   ]
  },
  {
   "cell_type": "code",
   "execution_count": 33,
   "id": "8a175e96",
   "metadata": {},
   "outputs": [
    {
     "name": "stdout",
     "output_type": "stream",
     "text": [
      "<class 'float'>\n"
     ]
    },
    {
     "data": {
      "image/png": "[encoded data removed]",
      "text/latex": [
       "$\\displaystyle 0.833333333333333$"
      ],
      "text/plain": [
       "0.8333333333333334"
      ]
     },
     "execution_count": 33,
     "metadata": {},
     "output_type": "execute_result"
    }
   ],
   "source": [
    "xx = 5/6\n",
    "sympify(xx)\n",
    "print(type(xx))\n",
    "xx"
   ]
  },
  {
   "cell_type": "code",
   "execution_count": 28,
   "id": "f3bc7ed2",
   "metadata": {},
   "outputs": [
    {
     "data": {
      "image/png": "[encoded data removed]",
      "text/latex": [
       "$\\displaystyle - \\frac{5}{84}$"
      ],
      "text/plain": [
       "-5/84"
      ]
     },
     "execution_count": 28,
     "metadata": {},
     "output_type": "execute_result"
    }
   ],
   "source": [
    "# Interpolation\n",
    "xx = 1\n",
    "\n",
    "interp = Pol.subs(x,xx)\n",
    "interp"
   ]
  },
  {
   "cell_type": "code",
   "execution_count": 37,
   "id": "81279030",
   "metadata": {},
   "outputs": [
    {
     "data": {
      "image/png": "[encoded data removed]",
      "text/plain": [
       "<Figure size 432x288 with 1 Axes>"
      ]
     },
     "metadata": {
      "needs_background": "light"
     },
     "output_type": "display_data"
    }
   ],
   "source": [
    "# Graphics\n",
    "p1 = plot(Pol, show=True)"
   ]
  }
 ],
 "metadata": {
  "kernelspec": {
   "display_name": "Python 3 (ipykernel)",
   "language": "python",
   "name": "python3"
  },
  "language_info": {
   "codemirror_mode": {
    "name": "ipython",
    "version": 3
   },
   "file_extension": ".py",
   "mimetype": "text/x-python",
   "name": "python",
   "nbconvert_exporter": "python",
   "pygments_lexer": "ipython3",
   "version": "3.9.7"
  }
 },
 "nbformat": 4,
 "nbformat_minor": 5
}
